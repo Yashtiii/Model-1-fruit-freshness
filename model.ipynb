{
 "cells": [
  {
   "cell_type": "markdown",
   "id": "f841e84f",
   "metadata": {},
   "source": [
    "# A basic ML model to check the freshness of a fruit"
   ]
  },
  {
   "cell_type": "markdown",
   "id": "4d39dc62",
   "metadata": {},
   "source": [
    "## Importing Libraries"
   ]
  },
  {
   "cell_type": "code",
   "execution_count": 2,
   "id": "a527d421",
   "metadata": {},
   "outputs": [],
   "source": [
    "import numpy as np\n",
    "import matplotlib.pyplot as plt\n",
    "import tensorflow as tf"
   ]
  },
  {
   "cell_type": "markdown",
   "id": "5e5801db",
   "metadata": {},
   "source": [
    "## Data preprocessing"
   ]
  },
  {
   "cell_type": "markdown",
   "id": "7e007ce9",
   "metadata": {},
   "source": [
    "### Setting Directories"
   ]
  },
  {
   "cell_type": "markdown",
   "id": "5ecf6312",
   "metadata": {},
   "source": [
    "- **\"tf.keras.utils.image_dataset_from_directory\"** is a library function which loads images from a directory\n",
    "- we have three directories here, *test, train and validation*, each directory here has four classes\n",
    "- label_mode defines how the lables are represented by the library function\n",
    "- seed ensures the random split between training and validation dataset is consistent and no images appear in both subsets if you run your code multiple times. (since we are splitting training set into two parts instead of creating a different directory for validation set)"
   ]
  },
  {
   "cell_type": "code",
   "execution_count": 23,
   "id": "4a760e55",
   "metadata": {},
   "outputs": [
    {
     "name": "stdout",
     "output_type": "stream",
     "text": [
      "Found 8733 files belonging to 4 classes.\n",
      "Using 6987 files for training.\n",
      "Found 8733 files belonging to 4 classes.\n",
      "Using 1746 files for validation.\n",
      "Found 2570 files belonging to 4 classes.\n",
      "Class Names: ['freshapples', 'freshoranges', 'rottenapples', 'rottenoranges']\n"
     ]
    }
   ],
   "source": [
    "batch_size = 32 #instead of processing one image at a time, the images are processed in a batch of 32\n",
    "img_height = 180\n",
    "img_width = 180\n",
    "validation_split = 0.2\n",
    "\n",
    "train_ds = tf.keras.utils.image_dataset_from_directory(\n",
    "    r\"D:\\Study stuff\\Fruit insights project\\model\\Model-1-fruit-freshness\\train\",\n",
    "    validation_split=validation_split,\n",
    "    subset=\"training\",\n",
    "    seed=123,\n",
    "    image_size=(img_height, img_width),\n",
    "    batch_size=batch_size,\n",
    "    label_mode='categorical',  \n",
    "    shuffle=True,\n",
    ")\n",
    "\n",
    "\n",
    "val_ds = tf.keras.utils.image_dataset_from_directory(\n",
    "    r\"D:\\Study stuff\\Fruit insights project\\model\\Model-1-fruit-freshness\\train\",\n",
    "    validation_split=validation_split,\n",
    "    subset=\"validation\",\n",
    "    seed=123,\n",
    "    image_size=(img_height, img_width),\n",
    "    batch_size=batch_size,\n",
    "    label_mode='categorical',\n",
    "    shuffle=True,\n",
    ")\n",
    "\n",
    "test_ds = tf.keras.utils.image_dataset_from_directory(\n",
    "    r\"D:\\Study stuff\\Fruit insights project\\model\\Model-1-fruit-freshness\\test\",\n",
    "    image_size=(img_height, img_width),\n",
    "    batch_size=batch_size,\n",
    "    label_mode='categorical',  \n",
    "    shuffle=False,\n",
    ")\n",
    "print(\"Class Names:\",train_ds.class_names)\n",
    "class_names = train_ds.class_names\n"
   ]
  },
  {
   "cell_type": "markdown",
   "id": "589c13b0",
   "metadata": {},
   "source": [
    "### Normalizing pixel values"
   ]
  },
  {
   "cell_type": "markdown",
   "id": "877c35e0",
   "metadata": {},
   "source": [
    "- Raw images have pixel values in range 0-255\n",
    "- The neural networks train faster in a standardized range (0.0 - 1.0). For that we use normalization, it reduces effects of variations in lightning, brightness and contrast in images.\n",
    "- **normalization_layer** rescales each pixel by multiplying it from (1/255) which converts the range of pixels to a floating point number between 0.0 to 1.0.\n",
    "\n",
    "---\n",
    "\n",
    "- here the **map()** applies the lambda function to each batch\n",
    "- **x** is a batch of images\n",
    "- **y** is a batch of labels for each image in the batch (categories of images i.e. fresh apples, fresh oranges etc)\n",
    "- you can imagine labels are [0,1,2,3] where 0 is for fresh apples, 1 is for fresh oranges, 2 is for rotten apples and 3 is for rotten oranges. The labels remain the same.\n"
   ]
  },
  {
   "cell_type": "code",
   "execution_count": 20,
   "id": "cedc29cc",
   "metadata": {},
   "outputs": [],
   "source": [
    "normalization_layer = tf.keras.layers.Rescaling(1./255)\n",
    "\n",
    "train_ds = train_ds.map(lambda x, y: (normalization_layer(x), y))\n",
    "val_ds = val_ds.map(lambda x, y: (normalization_layer(x), y))\n",
    "test_ds = test_ds.map(lambda x, y: (normalization_layer(x), y))"
   ]
  },
  {
   "cell_type": "markdown",
   "id": "04ce36cd",
   "metadata": {},
   "source": [
    "### Optimizing data set loading"
   ]
  },
  {
   "cell_type": "markdown",
   "id": "76899d05",
   "metadata": {},
   "source": [
    "- **tf.data.AUTOTUNE** makes sure the data pipeline has the right number of threads working in parallel so training is smooth and efficient. Here threads are for the number of operations like map(), prefetch() etc. that are present in the data pipeline.\n",
    "- **data pipeline** includes a number of processes such as, loading them from the disk, resizing them, shuffling them, normalizing them, batch them and feed them to the model.\n",
    "- **cache()**: Stores the data in RAM after the first epoch (or on disk if RAM is small), this avoids reloading images again in later epochs which results in faster training.\n",
    "- **shuffle():** is used because it randomizes the order of images so that the machine is not focusing on a specific order during training, tensorflow randomly selects the next image from the buffer.\n",
    "- **prefetch()**: prepares the next batch of data while the model is being trained on the current one\n",
    "- **prefetch(buffer_size=AUTOTUNE)**: lets tensorflow automatically choose the optimal number of batches to prepare in advance."
   ]
  },
  {
   "cell_type": "code",
   "execution_count": 5,
   "id": "bc2763ac",
   "metadata": {},
   "outputs": [],
   "source": [
    "AUTOTUNE = tf.data.AUTOTUNE\n",
    "\n",
    "train_ds = train_ds.cache().shuffle(1000).prefetch(buffer_size=AUTOTUNE)\n",
    "val_ds = val_ds.cache().prefetch(buffer_size=AUTOTUNE)\n",
    "test_ds = test_ds.cache().prefetch(buffer_size=AUTOTUNE)\n"
   ]
  },
  {
   "cell_type": "markdown",
   "id": "5e23af03",
   "metadata": {},
   "source": [
    "## CNN model\n",
    "( Convolutional Neural Network )"
   ]
  },
  {
   "cell_type": "markdown",
   "id": "426c66ed",
   "metadata": {},
   "source": [
    "- The **layers module** provides building blocks of a neural network. Here each layer performs a specific transformation on data.\n",
    "Such as - **Conv2D** : detects patterns/features\n",
    "        - **MaxPooling2D** : shrinks data while keeping important information\n",
    "        - **Flatten** : Converts Multidimentional data into 1D vector\n",
    "        - **Dense** : Combines all features to make a decision\n",
    "\n",
    "- The **models module** provides a container to organize and connect the layers together into a complete neural network"
   ]
  },
  {
   "cell_type": "code",
   "execution_count": 6,
   "id": "e08939b1",
   "metadata": {},
   "outputs": [],
   "source": [
    "from tensorflow.keras import layers, models"
   ]
  },
  {
   "cell_type": "markdown",
   "id": "c32e0387",
   "metadata": {},
   "source": [
    "### Model creation\n",
    "\n",
    "I am using a **Sequential model**, which means the output of one layer is directly passed as input to the next (layers are stacked one after another). The steps are given below. \n",
    "\n",
    "#### 1. Input Layer\n",
    "- The model takes an image of size **180 × 180** with **3 color channels (RGB)**.\n",
    "\n",
    "#### 2. Convolution + Pooling Layers (Feature Extraction)\n",
    "- **Conv2D(32, 3×3, ReLU):** Detects very basic features like *edges, corners, and lines*. \n",
    "- **ReLU:** ensures we only keep the useful signals by removing negative values\n",
    "- **MaxPooling(2×2):** Shrinks the image while keeping the strongest signals. This process makes the model faster and avoids overfitting.\n",
    "- **Dropout(0.25):** Dropout randomly sets 25% of those values to 0. This prevents the model to memorize which helps to focus on learning different patterns.  \n",
    "\n",
    "- **Conv2D(64, 3×3, ReLU):** Detects more complex features like *textures, curves, and shapes*.  \n",
    "- **MaxPooling(2×2):** Same function\n",
    "- **Dropout(0.25):** Same function\n",
    "\n",
    "- **Conv2D(128, 3×3, ReLU):** Detects high-level, detailed features like *eyes, leaves, or object parts*.  \n",
    "- **MaxPooling(2×2):** Same function. \n",
    "- **Dropout(0.25):** Same function\n",
    "\n",
    "At this stage, the image has been turned into a set of **2D feature maps** (many small grids that represent different learned patterns).\n",
    "\n",
    "#### 3. Flatten Layer\n",
    "- The 2D feature maps are **flattened into a 1D vector**.  \n",
    "- This means all the detected features are lined up in a row so they can be used for decision making.\n",
    "\n",
    "#### 4. Dense(128, ReLU)\n",
    "- This is a **fully connected layer** that learns **combinations of features**.  \n",
    "- Example: *“If this edge + this texture + this color appear together  :- it might mean ‘fresh fruit’.”*  \n",
    "- **Dropout(0.50):** In dense layers every neuron is connected to every neuron in next layer so it makes them prone to *overfitting* (memorizing), therefore, dropping 50% of neurons ensures that model focuses on general patterns instead of memorizing.\n",
    "\n",
    "#### 5. Dense(4, Softmax)\n",
    "- This layers has 4 neurons (because we have 4 classes). So each neuron corresponds to one class.\n",
    "- The output comes out as raw values called logits, they can be positive or negative.\n",
    "- Softmax converts them into probabilities that add up to 1. \n",
    "- For example if logits are [-0.35, 0.1, 3.4, 0.01]\n",
    "- then after softmax it will be [0.8, 0.1, 0.05, 0.05] (sum of them is equal to 1). This means that the machine is 80% confident that the given image belongs to first class.\n",
    "\n",
    "In conclusion, Convolution + pooling are feature extracters, the dense layers act as decision makers, softmax gives us probabilites for each class.\n"
   ]
  },
  {
   "cell_type": "code",
   "execution_count": 7,
   "id": "5b254c7e",
   "metadata": {},
   "outputs": [
    {
     "data": {
      "text/html": [
       "<pre style=\"white-space:pre;overflow-x:auto;line-height:normal;font-family:Menlo,'DejaVu Sans Mono',consolas,'Courier New',monospace\"><span style=\"font-weight: bold\">Model: \"sequential\"</span>\n",
       "</pre>\n"
      ],
      "text/plain": [
       "\u001b[1mModel: \"sequential\"\u001b[0m\n"
      ]
     },
     "metadata": {},
     "output_type": "display_data"
    },
    {
     "data": {
      "text/html": [
       "<pre style=\"white-space:pre;overflow-x:auto;line-height:normal;font-family:Menlo,'DejaVu Sans Mono',consolas,'Courier New',monospace\">┏━━━━━━━━━━━━━━━━━━━━━━━━━━━━━━━━━┳━━━━━━━━━━━━━━━━━━━━━━━━┳━━━━━━━━━━━━━━━┓\n",
       "┃<span style=\"font-weight: bold\"> Layer (type)                    </span>┃<span style=\"font-weight: bold\"> Output Shape           </span>┃<span style=\"font-weight: bold\">       Param # </span>┃\n",
       "┡━━━━━━━━━━━━━━━━━━━━━━━━━━━━━━━━━╇━━━━━━━━━━━━━━━━━━━━━━━━╇━━━━━━━━━━━━━━━┩\n",
       "│ conv2d (<span style=\"color: #0087ff; text-decoration-color: #0087ff\">Conv2D</span>)                 │ (<span style=\"color: #00d7ff; text-decoration-color: #00d7ff\">None</span>, <span style=\"color: #00af00; text-decoration-color: #00af00\">178</span>, <span style=\"color: #00af00; text-decoration-color: #00af00\">178</span>, <span style=\"color: #00af00; text-decoration-color: #00af00\">32</span>)   │           <span style=\"color: #00af00; text-decoration-color: #00af00\">896</span> │\n",
       "├─────────────────────────────────┼────────────────────────┼───────────────┤\n",
       "│ max_pooling2d (<span style=\"color: #0087ff; text-decoration-color: #0087ff\">MaxPooling2D</span>)    │ (<span style=\"color: #00d7ff; text-decoration-color: #00d7ff\">None</span>, <span style=\"color: #00af00; text-decoration-color: #00af00\">89</span>, <span style=\"color: #00af00; text-decoration-color: #00af00\">89</span>, <span style=\"color: #00af00; text-decoration-color: #00af00\">32</span>)     │             <span style=\"color: #00af00; text-decoration-color: #00af00\">0</span> │\n",
       "├─────────────────────────────────┼────────────────────────┼───────────────┤\n",
       "│ dropout (<span style=\"color: #0087ff; text-decoration-color: #0087ff\">Dropout</span>)               │ (<span style=\"color: #00d7ff; text-decoration-color: #00d7ff\">None</span>, <span style=\"color: #00af00; text-decoration-color: #00af00\">89</span>, <span style=\"color: #00af00; text-decoration-color: #00af00\">89</span>, <span style=\"color: #00af00; text-decoration-color: #00af00\">32</span>)     │             <span style=\"color: #00af00; text-decoration-color: #00af00\">0</span> │\n",
       "├─────────────────────────────────┼────────────────────────┼───────────────┤\n",
       "│ conv2d_1 (<span style=\"color: #0087ff; text-decoration-color: #0087ff\">Conv2D</span>)               │ (<span style=\"color: #00d7ff; text-decoration-color: #00d7ff\">None</span>, <span style=\"color: #00af00; text-decoration-color: #00af00\">87</span>, <span style=\"color: #00af00; text-decoration-color: #00af00\">87</span>, <span style=\"color: #00af00; text-decoration-color: #00af00\">64</span>)     │        <span style=\"color: #00af00; text-decoration-color: #00af00\">18,496</span> │\n",
       "├─────────────────────────────────┼────────────────────────┼───────────────┤\n",
       "│ max_pooling2d_1 (<span style=\"color: #0087ff; text-decoration-color: #0087ff\">MaxPooling2D</span>)  │ (<span style=\"color: #00d7ff; text-decoration-color: #00d7ff\">None</span>, <span style=\"color: #00af00; text-decoration-color: #00af00\">43</span>, <span style=\"color: #00af00; text-decoration-color: #00af00\">43</span>, <span style=\"color: #00af00; text-decoration-color: #00af00\">64</span>)     │             <span style=\"color: #00af00; text-decoration-color: #00af00\">0</span> │\n",
       "├─────────────────────────────────┼────────────────────────┼───────────────┤\n",
       "│ dropout_1 (<span style=\"color: #0087ff; text-decoration-color: #0087ff\">Dropout</span>)             │ (<span style=\"color: #00d7ff; text-decoration-color: #00d7ff\">None</span>, <span style=\"color: #00af00; text-decoration-color: #00af00\">43</span>, <span style=\"color: #00af00; text-decoration-color: #00af00\">43</span>, <span style=\"color: #00af00; text-decoration-color: #00af00\">64</span>)     │             <span style=\"color: #00af00; text-decoration-color: #00af00\">0</span> │\n",
       "├─────────────────────────────────┼────────────────────────┼───────────────┤\n",
       "│ conv2d_2 (<span style=\"color: #0087ff; text-decoration-color: #0087ff\">Conv2D</span>)               │ (<span style=\"color: #00d7ff; text-decoration-color: #00d7ff\">None</span>, <span style=\"color: #00af00; text-decoration-color: #00af00\">41</span>, <span style=\"color: #00af00; text-decoration-color: #00af00\">41</span>, <span style=\"color: #00af00; text-decoration-color: #00af00\">128</span>)    │        <span style=\"color: #00af00; text-decoration-color: #00af00\">73,856</span> │\n",
       "├─────────────────────────────────┼────────────────────────┼───────────────┤\n",
       "│ max_pooling2d_2 (<span style=\"color: #0087ff; text-decoration-color: #0087ff\">MaxPooling2D</span>)  │ (<span style=\"color: #00d7ff; text-decoration-color: #00d7ff\">None</span>, <span style=\"color: #00af00; text-decoration-color: #00af00\">20</span>, <span style=\"color: #00af00; text-decoration-color: #00af00\">20</span>, <span style=\"color: #00af00; text-decoration-color: #00af00\">128</span>)    │             <span style=\"color: #00af00; text-decoration-color: #00af00\">0</span> │\n",
       "├─────────────────────────────────┼────────────────────────┼───────────────┤\n",
       "│ dropout_2 (<span style=\"color: #0087ff; text-decoration-color: #0087ff\">Dropout</span>)             │ (<span style=\"color: #00d7ff; text-decoration-color: #00d7ff\">None</span>, <span style=\"color: #00af00; text-decoration-color: #00af00\">20</span>, <span style=\"color: #00af00; text-decoration-color: #00af00\">20</span>, <span style=\"color: #00af00; text-decoration-color: #00af00\">128</span>)    │             <span style=\"color: #00af00; text-decoration-color: #00af00\">0</span> │\n",
       "├─────────────────────────────────┼────────────────────────┼───────────────┤\n",
       "│ flatten (<span style=\"color: #0087ff; text-decoration-color: #0087ff\">Flatten</span>)               │ (<span style=\"color: #00d7ff; text-decoration-color: #00d7ff\">None</span>, <span style=\"color: #00af00; text-decoration-color: #00af00\">51200</span>)          │             <span style=\"color: #00af00; text-decoration-color: #00af00\">0</span> │\n",
       "├─────────────────────────────────┼────────────────────────┼───────────────┤\n",
       "│ dense (<span style=\"color: #0087ff; text-decoration-color: #0087ff\">Dense</span>)                   │ (<span style=\"color: #00d7ff; text-decoration-color: #00d7ff\">None</span>, <span style=\"color: #00af00; text-decoration-color: #00af00\">128</span>)            │     <span style=\"color: #00af00; text-decoration-color: #00af00\">6,553,728</span> │\n",
       "├─────────────────────────────────┼────────────────────────┼───────────────┤\n",
       "│ dropout_3 (<span style=\"color: #0087ff; text-decoration-color: #0087ff\">Dropout</span>)             │ (<span style=\"color: #00d7ff; text-decoration-color: #00d7ff\">None</span>, <span style=\"color: #00af00; text-decoration-color: #00af00\">128</span>)            │             <span style=\"color: #00af00; text-decoration-color: #00af00\">0</span> │\n",
       "├─────────────────────────────────┼────────────────────────┼───────────────┤\n",
       "│ dense_1 (<span style=\"color: #0087ff; text-decoration-color: #0087ff\">Dense</span>)                 │ (<span style=\"color: #00d7ff; text-decoration-color: #00d7ff\">None</span>, <span style=\"color: #00af00; text-decoration-color: #00af00\">4</span>)              │           <span style=\"color: #00af00; text-decoration-color: #00af00\">516</span> │\n",
       "└─────────────────────────────────┴────────────────────────┴───────────────┘\n",
       "</pre>\n"
      ],
      "text/plain": [
       "┏━━━━━━━━━━━━━━━━━━━━━━━━━━━━━━━━━┳━━━━━━━━━━━━━━━━━━━━━━━━┳━━━━━━━━━━━━━━━┓\n",
       "┃\u001b[1m \u001b[0m\u001b[1mLayer (type)                   \u001b[0m\u001b[1m \u001b[0m┃\u001b[1m \u001b[0m\u001b[1mOutput Shape          \u001b[0m\u001b[1m \u001b[0m┃\u001b[1m \u001b[0m\u001b[1m      Param #\u001b[0m\u001b[1m \u001b[0m┃\n",
       "┡━━━━━━━━━━━━━━━━━━━━━━━━━━━━━━━━━╇━━━━━━━━━━━━━━━━━━━━━━━━╇━━━━━━━━━━━━━━━┩\n",
       "│ conv2d (\u001b[38;5;33mConv2D\u001b[0m)                 │ (\u001b[38;5;45mNone\u001b[0m, \u001b[38;5;34m178\u001b[0m, \u001b[38;5;34m178\u001b[0m, \u001b[38;5;34m32\u001b[0m)   │           \u001b[38;5;34m896\u001b[0m │\n",
       "├─────────────────────────────────┼────────────────────────┼───────────────┤\n",
       "│ max_pooling2d (\u001b[38;5;33mMaxPooling2D\u001b[0m)    │ (\u001b[38;5;45mNone\u001b[0m, \u001b[38;5;34m89\u001b[0m, \u001b[38;5;34m89\u001b[0m, \u001b[38;5;34m32\u001b[0m)     │             \u001b[38;5;34m0\u001b[0m │\n",
       "├─────────────────────────────────┼────────────────────────┼───────────────┤\n",
       "│ dropout (\u001b[38;5;33mDropout\u001b[0m)               │ (\u001b[38;5;45mNone\u001b[0m, \u001b[38;5;34m89\u001b[0m, \u001b[38;5;34m89\u001b[0m, \u001b[38;5;34m32\u001b[0m)     │             \u001b[38;5;34m0\u001b[0m │\n",
       "├─────────────────────────────────┼────────────────────────┼───────────────┤\n",
       "│ conv2d_1 (\u001b[38;5;33mConv2D\u001b[0m)               │ (\u001b[38;5;45mNone\u001b[0m, \u001b[38;5;34m87\u001b[0m, \u001b[38;5;34m87\u001b[0m, \u001b[38;5;34m64\u001b[0m)     │        \u001b[38;5;34m18,496\u001b[0m │\n",
       "├─────────────────────────────────┼────────────────────────┼───────────────┤\n",
       "│ max_pooling2d_1 (\u001b[38;5;33mMaxPooling2D\u001b[0m)  │ (\u001b[38;5;45mNone\u001b[0m, \u001b[38;5;34m43\u001b[0m, \u001b[38;5;34m43\u001b[0m, \u001b[38;5;34m64\u001b[0m)     │             \u001b[38;5;34m0\u001b[0m │\n",
       "├─────────────────────────────────┼────────────────────────┼───────────────┤\n",
       "│ dropout_1 (\u001b[38;5;33mDropout\u001b[0m)             │ (\u001b[38;5;45mNone\u001b[0m, \u001b[38;5;34m43\u001b[0m, \u001b[38;5;34m43\u001b[0m, \u001b[38;5;34m64\u001b[0m)     │             \u001b[38;5;34m0\u001b[0m │\n",
       "├─────────────────────────────────┼────────────────────────┼───────────────┤\n",
       "│ conv2d_2 (\u001b[38;5;33mConv2D\u001b[0m)               │ (\u001b[38;5;45mNone\u001b[0m, \u001b[38;5;34m41\u001b[0m, \u001b[38;5;34m41\u001b[0m, \u001b[38;5;34m128\u001b[0m)    │        \u001b[38;5;34m73,856\u001b[0m │\n",
       "├─────────────────────────────────┼────────────────────────┼───────────────┤\n",
       "│ max_pooling2d_2 (\u001b[38;5;33mMaxPooling2D\u001b[0m)  │ (\u001b[38;5;45mNone\u001b[0m, \u001b[38;5;34m20\u001b[0m, \u001b[38;5;34m20\u001b[0m, \u001b[38;5;34m128\u001b[0m)    │             \u001b[38;5;34m0\u001b[0m │\n",
       "├─────────────────────────────────┼────────────────────────┼───────────────┤\n",
       "│ dropout_2 (\u001b[38;5;33mDropout\u001b[0m)             │ (\u001b[38;5;45mNone\u001b[0m, \u001b[38;5;34m20\u001b[0m, \u001b[38;5;34m20\u001b[0m, \u001b[38;5;34m128\u001b[0m)    │             \u001b[38;5;34m0\u001b[0m │\n",
       "├─────────────────────────────────┼────────────────────────┼───────────────┤\n",
       "│ flatten (\u001b[38;5;33mFlatten\u001b[0m)               │ (\u001b[38;5;45mNone\u001b[0m, \u001b[38;5;34m51200\u001b[0m)          │             \u001b[38;5;34m0\u001b[0m │\n",
       "├─────────────────────────────────┼────────────────────────┼───────────────┤\n",
       "│ dense (\u001b[38;5;33mDense\u001b[0m)                   │ (\u001b[38;5;45mNone\u001b[0m, \u001b[38;5;34m128\u001b[0m)            │     \u001b[38;5;34m6,553,728\u001b[0m │\n",
       "├─────────────────────────────────┼────────────────────────┼───────────────┤\n",
       "│ dropout_3 (\u001b[38;5;33mDropout\u001b[0m)             │ (\u001b[38;5;45mNone\u001b[0m, \u001b[38;5;34m128\u001b[0m)            │             \u001b[38;5;34m0\u001b[0m │\n",
       "├─────────────────────────────────┼────────────────────────┼───────────────┤\n",
       "│ dense_1 (\u001b[38;5;33mDense\u001b[0m)                 │ (\u001b[38;5;45mNone\u001b[0m, \u001b[38;5;34m4\u001b[0m)              │           \u001b[38;5;34m516\u001b[0m │\n",
       "└─────────────────────────────────┴────────────────────────┴───────────────┘\n"
      ]
     },
     "metadata": {},
     "output_type": "display_data"
    },
    {
     "data": {
      "text/html": [
       "<pre style=\"white-space:pre;overflow-x:auto;line-height:normal;font-family:Menlo,'DejaVu Sans Mono',consolas,'Courier New',monospace\"><span style=\"font-weight: bold\"> Total params: </span><span style=\"color: #00af00; text-decoration-color: #00af00\">6,647,492</span> (25.36 MB)\n",
       "</pre>\n"
      ],
      "text/plain": [
       "\u001b[1m Total params: \u001b[0m\u001b[38;5;34m6,647,492\u001b[0m (25.36 MB)\n"
      ]
     },
     "metadata": {},
     "output_type": "display_data"
    },
    {
     "data": {
      "text/html": [
       "<pre style=\"white-space:pre;overflow-x:auto;line-height:normal;font-family:Menlo,'DejaVu Sans Mono',consolas,'Courier New',monospace\"><span style=\"font-weight: bold\"> Trainable params: </span><span style=\"color: #00af00; text-decoration-color: #00af00\">6,647,492</span> (25.36 MB)\n",
       "</pre>\n"
      ],
      "text/plain": [
       "\u001b[1m Trainable params: \u001b[0m\u001b[38;5;34m6,647,492\u001b[0m (25.36 MB)\n"
      ]
     },
     "metadata": {},
     "output_type": "display_data"
    },
    {
     "data": {
      "text/html": [
       "<pre style=\"white-space:pre;overflow-x:auto;line-height:normal;font-family:Menlo,'DejaVu Sans Mono',consolas,'Courier New',monospace\"><span style=\"font-weight: bold\"> Non-trainable params: </span><span style=\"color: #00af00; text-decoration-color: #00af00\">0</span> (0.00 B)\n",
       "</pre>\n"
      ],
      "text/plain": [
       "\u001b[1m Non-trainable params: \u001b[0m\u001b[38;5;34m0\u001b[0m (0.00 B)\n"
      ]
     },
     "metadata": {},
     "output_type": "display_data"
    }
   ],
   "source": [
    "model = models.Sequential([\n",
    "    layers.Input(shape=(180, 180, 3)),\n",
    "\n",
    "    layers.Conv2D(32, (3,3), activation='relu'),\n",
    "    layers.MaxPooling2D((2,2)),\n",
    "    layers.Dropout(0.25),\n",
    "\n",
    "    layers.Conv2D(64, (3,3), activation='relu'),\n",
    "    layers.MaxPooling2D((2,2)),\n",
    "    layers.Dropout(0.25),\n",
    "\n",
    "    layers.Conv2D(128, (3,3), activation='relu'),\n",
    "    layers.MaxPooling2D((2,2)),\n",
    "    layers.Dropout(0.25),\n",
    "\n",
    "    layers.Flatten(),\n",
    "    layers.Dense(128, activation='relu'),\n",
    "    layers.Dropout(0.5),\n",
    "\n",
    "    layers.Dense(4, activation='softmax')  \n",
    "])\n",
    "\n",
    "model.summary()"
   ]
  },
  {
   "cell_type": "markdown",
   "id": "49ec17ff",
   "metadata": {},
   "source": [
    "### Compilation of the model"
   ]
  },
  {
   "cell_type": "markdown",
   "id": "b2687dd9",
   "metadata": {},
   "source": [
    "- Here the neural network gets ready for training\n",
    "- **optimizer** is like an engine of learning.\n",
    "- **'adam'** (Adaptive moment estimation) automatically updates the learning rate for each parameter so the model continues to learn from it's mistakes.\n",
    "- The **loss function** measures how far the model's predictions are from the actual data.\n",
    "- **Categorical crossentropy** focuses on the correct class and checks how confident the model is about predicting it.\n",
    "- **metrics** tell us how well the model is performing, accuracy simply means the percentage of correct prediction."
   ]
  },
  {
   "cell_type": "code",
   "execution_count": 8,
   "id": "78fc984e",
   "metadata": {},
   "outputs": [],
   "source": [
    "model.compile(\n",
    "    optimizer='adam',\n",
    "    loss='categorical_crossentropy',\n",
    "    metrics=['accuracy']\n",
    ")"
   ]
  },
  {
   "cell_type": "markdown",
   "id": "03dcb1fd",
   "metadata": {},
   "source": [
    "### Training the model"
   ]
  },
  {
   "cell_type": "markdown",
   "id": "1c0ab3e9",
   "metadata": {},
   "source": [
    "- **EarlyStopping** is used to prevent overfitting. It will watch the validation loss and stops training when there is no improvement.\n",
    "- **patience = 2** means it will wait for 2 epochs to see if the validation loss improves and if it doesn't then it will stop the training.\n",
    "- **restore_best_weights=True** makes sure the best version of the model is kept\n",
    "---\n",
    "- **epochs** means that the model will go through the entire training dataset 10 times and each time it will try to improve.\n",
    "---\n",
    "- **model.fit** trains the neural network, it takes the training dataset in batches and feeds it to the model.\n",
    "- After each epoch, the model will check its perfomance on validation data to see if it's learning patterns or overfitting(memorizing).\n",
    "- Normally it will run for 10 epochs. Where first epoch will be 1/10 and last will be 10/10.\n",
    "- But with early_stop the training may stop before 10 epochs if the validation loss is not improving.\n",
    "- This training process is saved in \"history\"\n",
    "---\n",
    "The training process is tracked with:\n",
    "- accuracy → how well it predicts on training data\n",
    "- loss → error on training data\n",
    "- val_accuracy → how well it predicts on validation data\n",
    "- val_loss → error on validation data\n",
    "---\n",
    "***Why are we checking validation loss?***\n",
    "The model sees training data again and again so it might memorize it. Validation data is the unseen data so with that data we check if our model is learning or memorizing. By improvement in validation loss value, we mean the lower it gets the better. When the validation loss starts going up, that's when the earlyStopping kicks in. If the validation loss stops improving it means that the model is memorizing training data and it's not generalizing well.\n",
    "\n",
    "***Accuracy vs loss***\n",
    "- Accuracy is a percentage of correctly predicted labels.\n",
    "- Loss is a numerical score which tells how wrong the predictions are. \n",
    "- We are using *categorical crossentrophy* which looks at the predicted probabilities (from softmax). The higher the probability for correct class, smaller the loss. vice versa."
   ]
  },
  {
   "cell_type": "code",
   "execution_count": 9,
   "id": "aae90c3c",
   "metadata": {},
   "outputs": [
    {
     "name": "stdout",
     "output_type": "stream",
     "text": [
      "Epoch 1/10\n",
      "\u001b[1m219/219\u001b[0m \u001b[32m━━━━━━━━━━━━━━━━━━━━\u001b[0m\u001b[37m\u001b[0m \u001b[1m441s\u001b[0m 2s/step - accuracy: 0.6119 - loss: 0.9327 - val_accuracy: 0.8116 - val_loss: 0.5688\n",
      "Epoch 2/10\n",
      "\u001b[1m219/219\u001b[0m \u001b[32m━━━━━━━━━━━━━━━━━━━━\u001b[0m\u001b[37m\u001b[0m \u001b[1m335s\u001b[0m 2s/step - accuracy: 0.8151 - loss: 0.5080 - val_accuracy: 0.8540 - val_loss: 0.4267\n",
      "Epoch 3/10\n",
      "\u001b[1m219/219\u001b[0m \u001b[32m━━━━━━━━━━━━━━━━━━━━\u001b[0m\u001b[37m\u001b[0m \u001b[1m452s\u001b[0m 2s/step - accuracy: 0.8544 - loss: 0.4011 - val_accuracy: 0.8889 - val_loss: 0.3314\n",
      "Epoch 4/10\n",
      "\u001b[1m219/219\u001b[0m \u001b[32m━━━━━━━━━━━━━━━━━━━━\u001b[0m\u001b[37m\u001b[0m \u001b[1m415s\u001b[0m 2s/step - accuracy: 0.8809 - loss: 0.3251 - val_accuracy: 0.9003 - val_loss: 0.2700\n",
      "Epoch 5/10\n",
      "\u001b[1m219/219\u001b[0m \u001b[32m━━━━━━━━━━━━━━━━━━━━\u001b[0m\u001b[37m\u001b[0m \u001b[1m357s\u001b[0m 2s/step - accuracy: 0.8952 - loss: 0.2884 - val_accuracy: 0.9204 - val_loss: 0.2258\n",
      "Epoch 6/10\n",
      "\u001b[1m219/219\u001b[0m \u001b[32m━━━━━━━━━━━━━━━━━━━━\u001b[0m\u001b[37m\u001b[0m \u001b[1m391s\u001b[0m 2s/step - accuracy: 0.9209 - loss: 0.2230 - val_accuracy: 0.9170 - val_loss: 0.2202\n",
      "Epoch 7/10\n",
      "\u001b[1m219/219\u001b[0m \u001b[32m━━━━━━━━━━━━━━━━━━━━\u001b[0m\u001b[37m\u001b[0m \u001b[1m318s\u001b[0m 1s/step - accuracy: 0.9282 - loss: 0.1910 - val_accuracy: 0.9296 - val_loss: 0.1967\n",
      "Epoch 8/10\n",
      "\u001b[1m219/219\u001b[0m \u001b[32m━━━━━━━━━━━━━━━━━━━━\u001b[0m\u001b[37m\u001b[0m \u001b[1m421s\u001b[0m 2s/step - accuracy: 0.9333 - loss: 0.1892 - val_accuracy: 0.9393 - val_loss: 0.1733\n",
      "Epoch 9/10\n",
      "\u001b[1m219/219\u001b[0m \u001b[32m━━━━━━━━━━━━━━━━━━━━\u001b[0m\u001b[37m\u001b[0m \u001b[1m435s\u001b[0m 2s/step - accuracy: 0.9445 - loss: 0.1592 - val_accuracy: 0.9553 - val_loss: 0.1299\n",
      "Epoch 10/10\n",
      "\u001b[1m219/219\u001b[0m \u001b[32m━━━━━━━━━━━━━━━━━━━━\u001b[0m\u001b[37m\u001b[0m \u001b[1m405s\u001b[0m 2s/step - accuracy: 0.9379 - loss: 0.1712 - val_accuracy: 0.9233 - val_loss: 0.2407\n"
     ]
    }
   ],
   "source": [
    "from tensorflow.keras.callbacks import EarlyStopping \n",
    "\n",
    "early_stop = EarlyStopping(monitor='val_loss',patience = 2, restore_best_weights=True)\n",
    "\n",
    "epochs = 10\n",
    "\n",
    "history = model.fit(\n",
    "    train_ds,\n",
    "    validation_data=val_ds,  \n",
    "    epochs=epochs,\n",
    "    callbacks=[early_stop]\n",
    ")"
   ]
  },
  {
   "cell_type": "markdown",
   "id": "37a6625c",
   "metadata": {},
   "source": [
    "### Analysis"
   ]
  },
  {
   "cell_type": "code",
   "execution_count": 29,
   "id": "d2858d1f",
   "metadata": {},
   "outputs": [
    {
     "data": {
      "image/png": "[encoded data removed]",
      "text/plain": [
       "<Figure size 1200x600 with 2 Axes>"
      ]
     },
     "metadata": {},
     "output_type": "display_data"
    }
   ],
   "source": [
    "# collecting the data we received from model training for each epoch\n",
    "acc = history.history['accuracy']\n",
    "val_acc = history.history['val_accuracy']\n",
    "loss = history.history['loss']\n",
    "val_loss = history.history['val_loss']\n",
    "\n",
    "epochs_range = range(epochs) # used as x-axis values\n",
    "\n",
    "plt.figure(figsize=(12, 6)) # figure size , 12 width and 6 height\n",
    "plt.subplot(1, 2, 1) # 1 row, 2 columns, index (first subplot)\n",
    "plt.plot(epochs_range, acc, label='Training Accuracy')\n",
    "plt.plot(epochs_range, val_acc, label='Validation Accuracy')\n",
    "plt.legend(loc='lower right')\n",
    "plt.title('Training and Validation Accuracy')\n",
    "\n",
    "plt.subplot(1, 2, 2) # 1 row, 2 columns, index (second subplot)\n",
    "plt.plot(epochs_range, loss, label='Training Loss')\n",
    "plt.plot(epochs_range, val_loss, label='Validation Loss')\n",
    "plt.legend(loc='upper right')\n",
    "plt.title('Training and Validation Loss')\n",
    "plt.show()\n"
   ]
  },
  {
   "cell_type": "markdown",
   "id": "f98919c6",
   "metadata": {},
   "source": [
    "> So from the above plots let's understand what we got.\n",
    "\n",
    "- **Accuracy Plot**\n",
    "- Both training and validation accuracy go up over time\n",
    "-> means the model is learning.\n",
    "\n",
    "- Training and validation accuracy stay close together\n",
    "-> means the model is not overfitting.\n",
    "\n",
    "- Validation accuracy should not suddenly drop\n",
    "-> if it does, the model is memorizing instead of learning.\n",
    "\n",
    "- **Loss Plot**\n",
    "- Both training and validation loss go down\n",
    "-> good sign, the model is reducing mistakes.\n",
    "\n",
    "- Training loss much lower than validation loss\n",
    "-> overfitting.\n",
    "\n",
    "- Validation loss stops improving while training loss keeps going down\n",
    "-> overfitting.\n",
    "\n",
    "- Validation loss should not keep rising\n",
    "-> if it does, your model is failing to generalize."
   ]
  },
  {
   "cell_type": "markdown",
   "id": "1cca4267",
   "metadata": {},
   "source": [
    "### Evaluation"
   ]
  },
  {
   "cell_type": "markdown",
   "id": "2176a06a",
   "metadata": {},
   "source": [
    "- **model.evaluate(test_ds)** : It runs the model in test dataset using the same metrics we defined during compilation (loss and accuracy). It returns them as a list [loss, accuracy]\n",
    "- **test_loss** : error score on test dataset\n",
    "- **test_acc** : percentage of correct predictions on test dataset\n",
    "- **print(f\"Test accuracy: {test_acc:.3f}\")** : prints accuracy rounded to 3 decimal places"
   ]
  },
  {
   "cell_type": "code",
   "execution_count": 12,
   "id": "012e7ad9",
   "metadata": {},
   "outputs": [
    {
     "name": "stdout",
     "output_type": "stream",
     "text": [
      "\u001b[1m81/81\u001b[0m \u001b[32m━━━━━━━━━━━━━━━━━━━━\u001b[0m\u001b[37m\u001b[0m \u001b[1m34s\u001b[0m 406ms/step - accuracy: 0.9689 - loss: 0.1011\n",
      "Test accuracy: 0.969\n"
     ]
    }
   ],
   "source": [
    "test_loss, test_acc = model.evaluate(test_ds)\n",
    "print(f\"Test accuracy: {test_acc:.3f}\")"
   ]
  },
  {
   "cell_type": "markdown",
   "id": "fd2699f8",
   "metadata": {},
   "source": [
    "| Accuracy Range | Model Quality |\n",
    "|----------------|---------------|\n",
    "| <70% | Poor |\n",
    "| 70-80% | Fair - Acceptable starting poing |\n",
    "| 80-90% | Good - Reliable for some tasks |\n",
    "| 90-95% | Very good - Strong, robust model |\n",
    "| >95% | Excellent - (check for overfitting)|"
   ]
  },
  {
   "cell_type": "markdown",
   "id": "a23662b7",
   "metadata": {},
   "source": [
    "### Make predictions"
   ]
  },
  {
   "cell_type": "markdown",
   "id": "5fda5f71",
   "metadata": {},
   "source": [
    "> Predicting by providing a path of an image\n",
    "- **img_path** stores the path (obviously)\n",
    "- **tf.keras.utils.load_img(img_path, target_size=(img_height, img_width))** : loads an image and resizes it to model's expected size (180 by 180)\n",
    "- **tf.keras.utils.img_to_array(img)** : Image is converted into a 3D array (height, width, channels) eg-  (180,180,3) for an RGB image\n",
    "- **np.expand_dims(img_array, axis=0)** adds a batch dimension, so the shape becomes (1, height, width, channels) and then normalizing them.\n",
    "- Models always expect a batch of images, even if it's just one image.\n",
    "- **model.predict(img_array)** : Gives probabiliites for each class as output. eg- [0.1, 0.6, 0.2, 0.1] this means that the model is 60 percent sure that it's the second class \n",
    "- Shape of this list will be (1,4) -> 1 image and 4 classes\n",
    "- **axis = 1** : it instructs to look across the columns in each row\n",
    "- **np.argmax**: Finds the index of the highest value along the specified index.\n",
    "- **[0]** : np.argmax returns an array for all images so this is for choosing the first image, if you provide more than one image\n",
    "- **predicted_class**: holds the index of the predicted class\n"
   ]
  },
  {
   "cell_type": "code",
   "execution_count": null,
   "id": "1368ad61",
   "metadata": {},
   "outputs": [
    {
     "name": "stdout",
     "output_type": "stream",
     "text": [
      "\u001b[1m1/1\u001b[0m \u001b[32m━━━━━━━━━━━━━━━━━━━━\u001b[0m\u001b[37m\u001b[0m \u001b[1m0s\u001b[0m 195ms/step\n",
      "Predicted class: rottenoranges\n"
     ]
    }
   ],
   "source": [
    "from tensorflow.keras.preprocessing import image\n",
    "\n",
    "img_path = r\"D:\\Study stuff\\Fruit insights project\\model\\Model-1-fruit-freshness\\test\\rottenoranges\\rotated_by_15_Screen Shot 2018-06-12 at 11.18.46 PM.png\"\n",
    "img = tf.keras.utils.load_img(img_path, target_size=(img_height, img_width))\n",
    "img_array = tf.keras.utils.img_to_array(img)\n",
    "img_array = np.expand_dims(img_array, axis=0) / 255.0  \n",
    "\n",
    "prediction = model.predict(img_array)\n",
    "predicted_class = np.argmax(prediction, axis=1)[0]\n",
    "print(\"Predicted class:\", train_ds.class_names[predicted_class])"
   ]
  },
  {
   "cell_type": "markdown",
   "id": "e8807c13",
   "metadata": {},
   "source": [
    "### Save model"
   ]
  },
  {
   "cell_type": "code",
   "execution_count": 31,
   "id": "7ed05519",
   "metadata": {},
   "outputs": [],
   "source": [
    "model.save('fruit_freshness_cnn_model.keras')\n"
   ]
  },
  {
   "cell_type": "code",
   "execution_count": null,
   "id": "db36879d",
   "metadata": {},
   "outputs": [],
   "source": []
  }
 ],
 "metadata": {
  "kernelspec": {
   "display_name": "Python 3",
   "language": "python",
   "name": "python3"
  },
  "language_info": {
   "codemirror_mode": {
    "name": "ipython",
    "version": 3
   },
   "file_extension": ".py",
   "mimetype": "text/x-python",
   "name": "python",
   "nbconvert_exporter": "python",
   "pygments_lexer": "ipython3",
   "version": "3.11.0"
  }
 },
 "nbformat": 4,
 "nbformat_minor": 5
}
